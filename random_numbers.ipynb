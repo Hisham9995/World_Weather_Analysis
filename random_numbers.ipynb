{
 "cells": [
  {
   "cell_type": "code",
   "execution_count": 1,
   "id": "a914b950",
   "metadata": {},
   "outputs": [],
   "source": [
    "# Import the random module.\n",
    "import random"
   ]
  },
  {
   "cell_type": "code",
   "execution_count": 2,
   "id": "f5a57d0f",
   "metadata": {},
   "outputs": [
    {
     "data": {
      "text/plain": [
       "-73"
      ]
     },
     "execution_count": 2,
     "metadata": {},
     "output_type": "execute_result"
    }
   ],
   "source": [
    "random.randint(-90, 90)"
   ]
  },
  {
   "cell_type": "code",
   "execution_count": 3,
   "id": "0716e572",
   "metadata": {},
   "outputs": [
    {
     "data": {
      "text/plain": [
       "0.19261356969707144"
      ]
     },
     "execution_count": 3,
     "metadata": {},
     "output_type": "execute_result"
    }
   ],
   "source": [
    "random.random()"
   ]
  },
  {
   "cell_type": "code",
   "execution_count": 4,
   "id": "4cd41d4c",
   "metadata": {},
   "outputs": [
    {
     "data": {
      "text/plain": [
       "84.20764576062064"
      ]
     },
     "execution_count": 4,
     "metadata": {},
     "output_type": "execute_result"
    }
   ],
   "source": [
    "random_number = random.randint(-90, 89) + random.random()\n",
    "random_number"
   ]
  },
  {
   "cell_type": "code",
   "execution_count": 5,
   "id": "b012b5d7",
   "metadata": {},
   "outputs": [],
   "source": [
    "x = 1\n",
    "latitudes = []\n",
    "while x < 11:\n",
    "    random_lat = random.randint(-90, 89) + random.random()\n",
    "    latitudes.append(random_lat)\n",
    "    x += 1"
   ]
  },
  {
   "cell_type": "code",
   "execution_count": 6,
   "id": "602dea3c",
   "metadata": {},
   "outputs": [
    {
     "data": {
      "text/plain": [
       "[79.8531397556083,\n",
       " -33.72496048397008,\n",
       " -21.831394756252838,\n",
       " 83.21173825136214,\n",
       " 3.90379808827298,\n",
       " 89.57571560640253,\n",
       " 9.095005436537221,\n",
       " 35.30299623665578,\n",
       " -43.16753161948384,\n",
       " -66.92955917800991]"
      ]
     },
     "execution_count": 6,
     "metadata": {},
     "output_type": "execute_result"
    }
   ],
   "source": [
    "latitudes"
   ]
  },
  {
   "cell_type": "code",
   "execution_count": 7,
   "id": "fd1d16a3",
   "metadata": {},
   "outputs": [
    {
     "data": {
      "text/plain": [
       "85"
      ]
     },
     "execution_count": 7,
     "metadata": {},
     "output_type": "execute_result"
    }
   ],
   "source": [
    "random.randrange(-90, 90, step = 1)"
   ]
  },
  {
   "cell_type": "code",
   "execution_count": 8,
   "id": "eb50ced8",
   "metadata": {},
   "outputs": [
    {
     "data": {
      "text/plain": [
       "69"
      ]
     },
     "execution_count": 8,
     "metadata": {},
     "output_type": "execute_result"
    }
   ],
   "source": [
    "random.randrange(-90, 90, step = 3)"
   ]
  },
  {
   "cell_type": "code",
   "execution_count": 9,
   "id": "abaa7804",
   "metadata": {},
   "outputs": [
    {
     "data": {
      "text/plain": [
       "-65.16377901319461"
      ]
     },
     "execution_count": 9,
     "metadata": {},
     "output_type": "execute_result"
    }
   ],
   "source": [
    "Random_number = random.randrange(-90, 90, step= 3) + random.random()\n",
    "Random_number"
   ]
  },
  {
   "cell_type": "code",
   "execution_count": 10,
   "id": "fb94a7f2",
   "metadata": {},
   "outputs": [
    {
     "data": {
      "text/plain": [
       "4.944793882458171"
      ]
     },
     "execution_count": 10,
     "metadata": {},
     "output_type": "execute_result"
    }
   ],
   "source": [
    "random.uniform(-90, 90)"
   ]
  },
  {
   "cell_type": "markdown",
   "id": "270f4d0f",
   "metadata": {},
   "source": [
    "## Import numpy "
   ]
  },
  {
   "cell_type": "code",
   "execution_count": 11,
   "id": "1892294b",
   "metadata": {},
   "outputs": [],
   "source": [
    "# Import the NumPy module.\n",
    "import numpy as np"
   ]
  },
  {
   "cell_type": "code",
   "execution_count": 12,
   "id": "59dad254",
   "metadata": {},
   "outputs": [
    {
     "data": {
      "text/plain": [
       "-4.460534282985336"
      ]
     },
     "execution_count": 12,
     "metadata": {},
     "output_type": "execute_result"
    }
   ],
   "source": [
    "np.random.uniform(-90.000, 90.000)"
   ]
  },
  {
   "cell_type": "code",
   "execution_count": 13,
   "id": "7f6acf22",
   "metadata": {},
   "outputs": [
    {
     "data": {
      "text/plain": [
       "-68.42649949942616"
      ]
     },
     "execution_count": 13,
     "metadata": {},
     "output_type": "execute_result"
    }
   ],
   "source": [
    "np.random.uniform(low=-90, high=90)"
   ]
  },
  {
   "cell_type": "code",
   "execution_count": 14,
   "id": "7ab61beb",
   "metadata": {},
   "outputs": [
    {
     "data": {
      "text/plain": [
       "0.4050709112232169"
      ]
     },
     "execution_count": 14,
     "metadata": {},
     "output_type": "execute_result"
    }
   ],
   "source": [
    "np.random.uniform()"
   ]
  },
  {
   "cell_type": "code",
   "execution_count": 15,
   "id": "fc0bee66",
   "metadata": {},
   "outputs": [],
   "source": [
    "# Import timeit.\n",
    "import timeit"
   ]
  },
  {
   "cell_type": "code",
   "execution_count": 16,
   "id": "5519e307",
   "metadata": {},
   "outputs": [
    {
     "data": {
      "text/plain": [
       "array([-11.79685748, -74.76774763, -57.50566596,  56.15690959,\n",
       "        23.62741245, -22.6124871 ,  55.13327797, -25.25849885,\n",
       "       -27.07315185,   5.98293158, -22.21925767,  38.26911577,\n",
       "        10.95332952, -21.00411833,  81.73231369,  31.97978396,\n",
       "        50.27677883,   3.79538148,  60.6411077 ,  63.11201223,\n",
       "         4.00990224, -73.24248075, -57.27409121, -54.92268498,\n",
       "       -45.64851919,  -7.47110215,  -7.2460426 ,  41.60560874,\n",
       "       -76.51541741,  63.22309982, -65.22591648,  81.41320333,\n",
       "        -7.94055568,  86.96268065,  26.16040482, -45.18922298,\n",
       "       -38.81014188,  20.58809483,  48.77502111,  35.0192803 ,\n",
       "        43.26863299, -84.70721343, -85.39672227,  -6.36136219,\n",
       "       -89.60322825, -86.37023522,  43.08285924, -34.03658437,\n",
       "        56.53906413, -61.54309047])"
      ]
     },
     "execution_count": 16,
     "metadata": {},
     "output_type": "execute_result"
    }
   ],
   "source": [
    "np.random.uniform(-90.000, 90.000, size=50)"
   ]
  },
  {
   "cell_type": "code",
   "execution_count": 17,
   "id": "b61735f8",
   "metadata": {},
   "outputs": [
    {
     "name": "stdout",
     "output_type": "stream",
     "text": [
      "3.55 µs ± 213 ns per loop (mean ± std. dev. of 7 runs, 100000 loops each)\n"
     ]
    }
   ],
   "source": [
    "%timeit np.random.uniform(-90.000, 90.000, size=50)"
   ]
  },
  {
   "cell_type": "code",
   "execution_count": 23,
   "id": "08a328dc",
   "metadata": {},
   "outputs": [
    {
     "name": "stdout",
     "output_type": "stream",
     "text": [
      "2 ms ± 51.8 µs per loop (mean ± std. dev. of 7 runs, 100 loops each)\n"
     ]
    }
   ],
   "source": [
    "def latitudes(size):\n",
    "    latitudes = []\n",
    "    x = 0\n",
    "    while x < (size):\n",
    "        random_lat = random.randint(-90, 90) + random.random()\n",
    "        latitudes.append(random_lat)\n",
    "        x += 1\n",
    "    return latitudes\n",
    "# Call the function with 1500.\n",
    "%timeit latitudes(1500)"
   ]
  }
 ],
 "metadata": {
  "kernelspec": {
   "display_name": "PythonData",
   "language": "python",
   "name": "pythondata"
  },
  "language_info": {
   "codemirror_mode": {
    "name": "ipython",
    "version": 3
   },
   "file_extension": ".py",
   "mimetype": "text/x-python",
   "name": "python",
   "nbconvert_exporter": "python",
   "pygments_lexer": "ipython3",
   "version": "3.7.10"
  }
 },
 "nbformat": 4,
 "nbformat_minor": 5
}
